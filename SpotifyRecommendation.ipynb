{
  "nbformat": 4,
  "nbformat_minor": 0,
  "metadata": {
    "colab": {
      "provenance": [],
      "private_outputs": true
    },
    "kernelspec": {
      "name": "python3",
      "display_name": "Python 3"
    },
    "language_info": {
      "name": "python"
    },
    "accelerator": "GPU",
    "gpuClass": "standard"
  },
  "cells": [
    {
      "cell_type": "code",
      "source": [
        "!pip install spotipy"
      ],
      "metadata": {
        "id": "0x66cNVMCPLH"
      },
      "execution_count": null,
      "outputs": []
    },
    {
      "cell_type": "code",
      "execution_count": null,
      "metadata": {
        "id": "nWcaciCC6TMh"
      },
      "outputs": [],
      "source": [
        "import spotipy\n",
        "from spotipy.oauth2 import SpotifyClientCredentials\n",
        "import csv\n",
        "import pandas as pd\n",
        "import seaborn as sns"
      ]
    },
    {
      "cell_type": "code",
      "source": [
        "#Authentication - without user\n",
        "cid='7f15c909dbc6478fb840e1e82a876329'\n",
        "secret='a6a9acaa0f4747709686adf4674c5dee'\n",
        "\n",
        "client_credentials_manager = SpotifyClientCredentials(client_id=cid, client_secret=secret)\n",
        "sp = spotipy.Spotify(client_credentials_manager = client_credentials_manager)"
      ],
      "metadata": {
        "id": "MLZcFfu3Bv06"
      },
      "execution_count": null,
      "outputs": []
    },
    {
      "cell_type": "code",
      "source": [
        "playlist_link = \"https://open.spotify.com/playlist/3ZgmfR6lsnCwdffZUan8EA\"\n",
        "playlist_URI = playlist_link.split(\"/\")[-1].split(\"?\")[0]\n",
        "track_uris = [x[\"track\"][\"uri\"] for x in sp.playlist_tracks(playlist_URI)[\"items\"]]"
      ],
      "metadata": {
        "id": "Nxs88Ue-e6Sx"
      },
      "execution_count": null,
      "outputs": []
    },
    {
      "cell_type": "code",
      "source": [
        "for track in sp.playlist_tracks(playlist_URI)[\"items\"]:\n",
        "    #URI\n",
        "    track_uri = track[\"track\"][\"uri\"]\n",
        "    #Track name\n",
        "    track_name = track[\"track\"][\"name\"]\n",
        "    #Main Artist\n",
        "    artist_uri = track[\"track\"][\"artists\"][0][\"uri\"]\n",
        "    artist_info = sp.artist(artist_uri)\n",
        "    #Name, popularity, genre\n",
        "    artist_name = track[\"track\"][\"artists\"][0][\"name\"]\n",
        "    artist_pop = artist_info[\"popularity\"]\n",
        "    artist_genres = artist_info[\"genres\"]\n",
        "    genres=\",\".join(str(x) for x in artist_genres)\n",
        "    #Album\n",
        "    album = track[\"track\"][\"album\"][\"name\"]\n",
        "    #Popularity of the track\n",
        "    track_pop = track[\"track\"][\"popularity\"]\n",
        "    #Writing all the extracted JSON value into CSV\n",
        "    dictdf={'Tname':track_name,'TAlbum':album,'Aname':artist_name,'Apop':artist_pop,'Popularity':track_pop,'Genres':genres}\n",
        "    dictfdf=dictdf.copy()\n",
        "    dictfdf.update(sp.audio_features(track_uri)[0]) #Merging the features of the song and all the extracted JSON value\n",
        "    df = pd.DataFrame(dictfdf, index=[0])\n",
        "    df.to_csv('/content/example.csv', mode='a', index=False, header=False)"
      ],
      "metadata": {
        "id": "BR5KX1g-fEk8"
      },
      "execution_count": null,
      "outputs": []
    },
    {
      "cell_type": "code",
      "source": [
        "df= pd.read_csv('/content/example.csv')\n",
        "#Header Name\n",
        "df.columns=['Tname','TAlbum','Aname','Apop','Popularity','Genres','danceability', 'energy', 'key', 'loudness', 'mode', 'speechiness', 'acousticness', 'instrumentalness', 'liveness', 'valence', 'tempo', 'type', 'id', 'uri', 'track_href', 'analysis_url', 'duration_ms', 'time_signature']\n",
        "df.to_csv('/content/example.csv', index=False)\n"
      ],
      "metadata": {
        "id": "pMkTde48G7Ma"
      },
      "execution_count": null,
      "outputs": []
    },
    {
      "cell_type": "code",
      "source": [
        "df"
      ],
      "metadata": {
        "id": "jry0JKYHph7E"
      },
      "execution_count": null,
      "outputs": []
    },
    {
      "cell_type": "code",
      "source": [
        "#Testing value\n",
        "print(sp.audio_features('6vezarXrEyu0zN5WjJqGfg')[0])"
      ],
      "metadata": {
        "id": "t1y7Tf8zfFSN"
      },
      "execution_count": null,
      "outputs": []
    },
    {
      "cell_type": "code",
      "source": [
        "print(sp.track('6vezarXrEyu0zN5WjJqGfg')[\"artists\"][0][\"uri\"])"
      ],
      "metadata": {
        "id": "zagUcpE_XKtL"
      },
      "execution_count": null,
      "outputs": []
    },
    {
      "cell_type": "code",
      "source": [
        "print(sp.track('6vezarXrEyu0zN5WjJqGfg')[\"artists\"][0][\"name\"])\n",
        "print(sp.track('6vezarXrEyu0zN5WjJqGfg')[\"name\"])\n",
        "sp.artist('spotify:artist:2y8Jo9CKhJvtfeKOsYzRdT')[\"genres\"]"
      ],
      "metadata": {
        "id": "7HKQPt2QXwbe"
      },
      "execution_count": null,
      "outputs": []
    },
    {
      "cell_type": "code",
      "source": [
        "print(sp.artist(artist_uri))"
      ],
      "metadata": {
        "id": "9Ket9970iYLt"
      },
      "execution_count": null,
      "outputs": []
    },
    {
      "cell_type": "code",
      "source": [
        "import pandas as pd\n",
        "import numpy as np\n",
        "import math\n",
        "import operator"
      ],
      "metadata": {
        "id": "Cp9GU2UyeIT7"
      },
      "execution_count": null,
      "outputs": []
    },
    {
      "cell_type": "code",
      "source": [
        "dfs=pd.read_csv(\"/content/example1.csv\")"
      ],
      "metadata": {
        "id": "LNQ9rNXMeKBv"
      },
      "execution_count": null,
      "outputs": []
    },
    {
      "cell_type": "code",
      "source": [
        "dfs"
      ],
      "metadata": {
        "id": "lJn0eGabeLjK"
      },
      "execution_count": null,
      "outputs": []
    },
    {
      "cell_type": "code",
      "source": [
        "dfs.head()"
      ],
      "metadata": {
        "id": "mVYZ1UWt36MS"
      },
      "execution_count": null,
      "outputs": []
    },
    {
      "cell_type": "code",
      "source": [
        "dfs.info()"
      ],
      "metadata": {
        "id": "MKSyw1Dc4JE_"
      },
      "execution_count": null,
      "outputs": []
    },
    {
      "cell_type": "code",
      "source": [
        "dfs.describe()"
      ],
      "metadata": {
        "id": "0KXd9bcc4OFR"
      },
      "execution_count": null,
      "outputs": []
    },
    {
      "cell_type": "code",
      "source": [
        "total = dfs.isnull().sum().sort_values(ascending = False)\n",
        "percent = (dfs.isnull().sum()/dfs.isnull().count()*100).sort_values(ascending = False)\n",
        "missing_data  = pd.concat([total, percent], axis=1, keys=['Total', 'Percent'])\n",
        "missing_data"
      ],
      "metadata": {
        "id": "pSxkxoDA4QtP"
      },
      "execution_count": null,
      "outputs": []
    },
    {
      "cell_type": "code",
      "source": [
        "df[\"danceability\"].value_counts().plot(kind=\"bar\")"
      ],
      "metadata": {
        "id": "lxVbFXET4X91"
      },
      "execution_count": null,
      "outputs": []
    },
    {
      "cell_type": "code",
      "source": [
        "pd.crosstab(df[\"energy\"], df[\"loudness\"]).plot(kind=\"line\")"
      ],
      "metadata": {
        "id": "l0oDqbfQ4yd4"
      },
      "execution_count": null,
      "outputs": []
    },
    {
      "cell_type": "code",
      "source": [
        "import matplotlib.pyplot as plt\n",
        "plt.boxplot(dfs[\"energy\"])"
      ],
      "metadata": {
        "id": "wCid54c25KGJ"
      },
      "execution_count": null,
      "outputs": []
    },
    {
      "cell_type": "code",
      "source": [
        "means = df.groupby(\"Aname\")[\"energy\"].mean().sort_values(ascending=False)\n",
        "means"
      ],
      "metadata": {
        "id": "ccp3Qd1O5vcd"
      },
      "execution_count": null,
      "outputs": []
    },
    {
      "cell_type": "code",
      "source": [
        "means.plot(kind=\"bar\",xlabel=\"energy\",ylabel=\"artist name\",title=\"mean energy\")"
      ],
      "metadata": {
        "id": "jPHd0AeL5EaF"
      },
      "execution_count": null,
      "outputs": []
    },
    {
      "cell_type": "code",
      "source": [
        "plt.scatter(df[\"acousticness\"],df[\"loudness\"])"
      ],
      "metadata": {
        "id": "bC87dGy_5_is"
      },
      "execution_count": null,
      "outputs": []
    },
    {
      "cell_type": "code",
      "source": [
        "sns.pairplot(data=df, vars=['Popularity', 'danceability', 'energy', 'loudness'], hue='energy', palette='Set1', diag_kind='hist', diag_kws={'alpha':0.5}, plot_kws={'alpha':0.5})\n",
        "plt.suptitle('Pairplot of Popularity, danceability, energy, and loudness')\n",
        "plt.xlabel('Features')\n",
        "plt.ylabel('Features')\n",
        "\n",
        "# Show the plot\n",
        "plt.show()\n"
      ],
      "metadata": {
        "id": "WGZ1EIZIEvlX"
      },
      "execution_count": null,
      "outputs": []
    },
    {
      "cell_type": "code",
      "source": [
        "plt.figure(figsize=(20,20))\n",
        "g=sns.heatmap(df.corr(),annot=True,cmap=\"RdYlGn\")"
      ],
      "metadata": {
        "id": "4Gp3U01kJ-aV"
      },
      "execution_count": null,
      "outputs": []
    },
    {
      "cell_type": "code",
      "source": [
        "from sklearn.neighbors import KNeighborsClassifier\n",
        "from sklearn.model_selection import train_test_split"
      ],
      "metadata": {
        "id": "NOUDBgYGeNJ5"
      },
      "execution_count": null,
      "outputs": []
    },
    {
      "cell_type": "code",
      "source": [
        "from sklearn.metrics import accuracy_score, precision_score, recall_score, f1_score, confusion_matrix,classification_report"
      ],
      "metadata": {
        "id": "rZQpLbHlZw3k"
      },
      "execution_count": null,
      "outputs": []
    },
    {
      "cell_type": "code",
      "source": [
        "train, test = train_test_split(dfs, test_size = 0.20)\n",
        "print(train.shape)\n",
        "print(test.shape)\n",
        "train_X = train[['danceability','energy','loudness','speechiness','acousticness','instrumentalness','liveness','valence','tempo']]# taking the training data features\n",
        "train_y=train.Tname\n",
        "test_X= test[['danceability','energy','loudness','speechiness','acousticness','instrumentalness','liveness','valence','tempo']] # taking test data features\n",
        "test_y =test.Tname\n",
        "model=KNeighborsClassifier(n_neighbors=3)\n",
        "model.fit(train_X,train_y)"
      ],
      "metadata": {
        "id": "8D2QhkAAePkf"
      },
      "execution_count": null,
      "outputs": []
    },
    {
      "cell_type": "code",
      "source": [
        "testSet = [[0.65,0.712,-12.011,0.0355,0.0596, 0.000683, 0.0997,0.759,160.729]]\n",
        "test = pd.DataFrame(testSet)\n",
        "# print(test)\n",
        "print(\"Recommended:\",model.predict(test))\n",
        "#print(\"neighbors\",model.kneighbors(test))"
      ],
      "metadata": {
        "id": "NpXljj25TYTc"
      },
      "execution_count": null,
      "outputs": []
    },
    {
      "cell_type": "code",
      "source": [
        "from sklearn.neighbors import KNeighborsClassifier\n",
        "from sklearn.model_selection import train_test_split\n",
        "from sklearn.model_selection import GridSearchCV\n",
        "import pandas as pd\n",
        "\n",
        "train, test = train_test_split(dfs, test_size = 0.20)\n",
        "print(train.shape)\n",
        "print(test.shape)\n",
        "train_X = train[['danceability','energy','loudness','speechiness','acousticness','instrumentalness','liveness','valence','tempo']]\n",
        "train_y = train.Tname\n",
        "test_X = test[['danceability','energy','loudness','speechiness','acousticness','instrumentalness','liveness','valence','tempo']]\n",
        "test_y = test.Tname\n",
        "\n",
        "# Define the KNN classifier\n",
        "model = KNeighborsClassifier()\n",
        "\n",
        "# Define the hyperparameters and their possible values for tuning\n",
        "param_grid = {\n",
        "    'n_neighbors': [1, 3, 5, 7],  # example values for tuning\n",
        "    'weights': ['uniform', 'distance'],  # example values for tuning\n",
        "    'p': [1, 2]  # example values for tuning\n",
        "}\n",
        "\n",
        "# Perform Grid Search with cross-validation to find the best hyperparameters\n",
        "grid_search = GridSearchCV(model, param_grid, cv=5)\n",
        "grid_search.fit(train_X, train_y)\n",
        "\n",
        "# Get the best hyperparameters\n",
        "best_n_neighbors = grid_search.best_params_['n_neighbors']\n",
        "best_weights = grid_search.best_params_['weights']\n",
        "best_p = grid_search.best_params_['p']\n",
        "\n",
        "# Train the KNN classifier with the best hyperparameters\n",
        "model = KNeighborsClassifier(n_neighbors=best_n_neighbors, weights=best_weights, p=best_p)\n",
        "model.fit(train_X, train_y)\n",
        "\n",
        "testSet = [[0.65,0.712,-12.011,0.0355,0.0596, 0.000683, 0.0997,0.759,160.729]]\n",
        "test = pd.DataFrame(testSet)\n",
        "# print(test)\n",
        "print(\"Recommended:\", model.predict(test))\n"
      ],
      "metadata": {
        "id": "76c3o4vl7PhW"
      },
      "execution_count": null,
      "outputs": []
    },
    {
      "cell_type": "code",
      "source": [
        "from sklearn.ensemble import RandomForestClassifier\n",
        "from sklearn.metrics import accuracy_score\n",
        "\n",
        "# Split the data into training and testing sets\n",
        "train, test = train_test_split(dfs, test_size=0.2)\n",
        "\n",
        "# Define the features and target variables\n",
        "features = ['danceability', 'energy', 'loudness', 'speechiness', 'acousticness', 'instrumentalness', 'liveness', 'valence', 'tempo']\n",
        "target = 'Tname'\n",
        "\n",
        "# Split the data into X and y arrays for training and testing\n",
        "X_train, y_train = train[features], train[target]\n",
        "X_test, y_test = test[features], test[target]\n",
        "\n",
        "# Create a Random Forest classifier with 100 trees\n",
        "rf = RandomForestClassifier(n_estimators=100)\n",
        "\n",
        "# Fit the model to the training data\n",
        "rf.fit(X_train, y_train)\n",
        "\n",
        "# Make predictions on the test data\n",
        "y_pred = rf.predict(X_test)\n",
        "\n",
        "# Evaluate the accuracy of the model\n",
        "accuracy = accuracy_score(y_test, y_pred)\n",
        "print(\"Random Forest accuracy:\", accuracy)\n",
        "#print(classification_report(y_test, y_pred))\n",
        "\n",
        "\n",
        "precision = precision_score(y_test, y_pred, average='weighted')\n",
        "recall = recall_score(y_test, y_pred, average='weighted')\n",
        "f1score = f1_score(y_test, y_pred, average='weighted')\n",
        "print(\"Precision:\", precision)\n",
        "print(\"Recall:\", recall)\n",
        "print(\"F1-score:\", f1score)\n",
        "\n",
        "# Calculate the confusion matrix\n",
        "cm = confusion_matrix(y_test, y_pred)\n",
        "print(cm)\n",
        "\n",
        "# Create a pandas DataFrame with the testSet values\n",
        "test_df = pd.DataFrame(testSet, columns=['danceability', 'energy', 'loudness', 'speechiness', 'acousticness', 'instrumentalness', 'liveness', 'valence', 'tempo'])\n",
        "\n",
        "# Make a prediction using the Random Forest classifier\n",
        "prediction = rf.predict(test_df)\n",
        "# Print the predicted value\n",
        "print(\"Random Forest predicted song:\", prediction)\n"
      ],
      "metadata": {
        "id": "NZuekzYdLf4q"
      },
      "execution_count": null,
      "outputs": []
    },
    {
      "cell_type": "code",
      "source": [
        "# Predict on test data\n",
        "predictions = model.predict(test_X)\n",
        "\n",
        "# Calculate accuracy, precision, recall, and F1-score\n",
        "accuracy = accuracy_score(test_y, predictions)\n",
        "precision = precision_score(test_y, predictions, average='weighted')\n",
        "recall = recall_score(test_y, predictions, average='weighted')\n",
        "f1score = f1_score(test_y, predictions, average='weighted')\n",
        "cm = confusion_matrix(test_y, predictions)\n",
        "\n",
        "print(\"Accuracy:\", accuracy)\n",
        "print(\"Precision:\", precision)\n",
        "print(\"Recall:\", recall)\n",
        "print(\"F1-score:\", f1score)\n",
        "print(\"Confusion Matrix:\")\n",
        "print(cm)\n"
      ],
      "metadata": {
        "id": "QfgkPdCjZxnu"
      },
      "execution_count": null,
      "outputs": []
    },
    {
      "cell_type": "code",
      "source": [
        "from sklearn.metrics import accuracy_score"
      ],
      "metadata": {
        "id": "LMkZdseo8IYc"
      },
      "execution_count": null,
      "outputs": []
    },
    {
      "cell_type": "code",
      "source": [
        "model.score(test_X,test_y)"
      ],
      "metadata": {
        "id": "pyKfG_-z8I7u"
      },
      "execution_count": null,
      "outputs": []
    },
    {
      "cell_type": "code",
      "source": [
        "model.score(train_X,train_y)"
      ],
      "metadata": {
        "id": "2C7Z4itq8s8V"
      },
      "execution_count": null,
      "outputs": []
    },
    {
      "cell_type": "code",
      "source": [
        "scores=[]\n",
        "nabors=[1,3,5,7,9]\n",
        "for i in range(1,10,2):\n",
        "  model=KNeighborsClassifier(n_neighbors=i)\n",
        "  model.fit(train_X,train_y)\n",
        "  scores.append(model.score(test_X,test_y))"
      ],
      "metadata": {
        "id": "QFvVRRNbIM8F"
      },
      "execution_count": null,
      "outputs": []
    },
    {
      "cell_type": "code",
      "source": [
        "from sklearn.neighbors import KNeighborsClassifier\n",
        "from sklearn.metrics import precision_score, recall_score, confusion_matrix"
      ],
      "metadata": {
        "id": "o2a7QQyIXb5b"
      },
      "execution_count": null,
      "outputs": []
    },
    {
      "cell_type": "code",
      "source": [
        "import matplotlib.pyplot as plt\n",
        "fig, ax = plt.subplots(figsize=(12,8))\n",
        "for index in range(len(nabors)):\n",
        "  ax.text(nabors[index], scores[index], scores[index], size=12)\n",
        "plt.grid()\n",
        "plt.plot(nabors,scores)\n",
        "plt.title(\"N v/s Scores \")\n",
        "plt.xlabel(\"Number of Neighbors/n\")\n",
        "plt.ylabel(\"Scores\")\n",
        "plt.show()"
      ],
      "metadata": {
        "id": "V-Pk2sOIJLSa"
      },
      "execution_count": null,
      "outputs": []
    }
  ]
}